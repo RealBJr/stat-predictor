{
 "cells": [
  {
   "cell_type": "markdown",
   "id": "d2d3bcd1",
   "metadata": {},
   "source": [
    "# Linear Regression (Multiple features)\n",
    "We are going to use gradient descent and a learning rate to find the coefficients based on their partial derivative of the cost function."
   ]
  },
  {
   "cell_type": "markdown",
   "id": "000432db",
   "metadata": {},
   "source": [
    "The mental map goes like this: recall the cost function for a simple case (one X and one B), now there is multiple x's and multiple b's. Hence, we have to differentiate properly find the rate of change of the coefficients for each feature and instead of using the closed form to find the minimum, we will use the gradient desceng: b = old b - learning rate * rate of change of b"
   ]
  },
  {
   "cell_type": "code",
   "execution_count": 1,
   "id": "bcc6436d",
   "metadata": {},
   "outputs": [],
   "source": [
    "import pandas as pd\n",
    "import matplotlib.pyplot as plt"
   ]
  },
  {
   "cell_type": "code",
   "execution_count": 2,
   "id": "b06fd1cb",
   "metadata": {},
   "outputs": [
    {
     "data": {
      "text/html": [
       "<div>\n",
       "<style scoped>\n",
       "    .dataframe tbody tr th:only-of-type {\n",
       "        vertical-align: middle;\n",
       "    }\n",
       "\n",
       "    .dataframe tbody tr th {\n",
       "        vertical-align: top;\n",
       "    }\n",
       "\n",
       "    .dataframe thead th {\n",
       "        text-align: right;\n",
       "    }\n",
       "</style>\n",
       "<table border=\"1\" class=\"dataframe\">\n",
       "  <thead>\n",
       "    <tr style=\"text-align: right;\">\n",
       "      <th></th>\n",
       "      <th>TV</th>\n",
       "      <th>radio</th>\n",
       "      <th>newspaper</th>\n",
       "      <th>sales</th>\n",
       "    </tr>\n",
       "  </thead>\n",
       "  <tbody>\n",
       "    <tr>\n",
       "      <th>0</th>\n",
       "      <td>230.1</td>\n",
       "      <td>37.8</td>\n",
       "      <td>69.2</td>\n",
       "      <td>22.1</td>\n",
       "    </tr>\n",
       "    <tr>\n",
       "      <th>1</th>\n",
       "      <td>44.5</td>\n",
       "      <td>39.3</td>\n",
       "      <td>45.1</td>\n",
       "      <td>10.4</td>\n",
       "    </tr>\n",
       "    <tr>\n",
       "      <th>2</th>\n",
       "      <td>17.2</td>\n",
       "      <td>45.9</td>\n",
       "      <td>69.3</td>\n",
       "      <td>9.3</td>\n",
       "    </tr>\n",
       "    <tr>\n",
       "      <th>3</th>\n",
       "      <td>151.5</td>\n",
       "      <td>41.3</td>\n",
       "      <td>58.5</td>\n",
       "      <td>18.5</td>\n",
       "    </tr>\n",
       "    <tr>\n",
       "      <th>4</th>\n",
       "      <td>180.8</td>\n",
       "      <td>10.8</td>\n",
       "      <td>58.4</td>\n",
       "      <td>12.9</td>\n",
       "    </tr>\n",
       "  </tbody>\n",
       "</table>\n",
       "</div>"
      ],
      "text/plain": [
       "      TV  radio  newspaper  sales\n",
       "0  230.1   37.8       69.2   22.1\n",
       "1   44.5   39.3       45.1   10.4\n",
       "2   17.2   45.9       69.3    9.3\n",
       "3  151.5   41.3       58.5   18.5\n",
       "4  180.8   10.8       58.4   12.9"
      ]
     },
     "execution_count": 2,
     "metadata": {},
     "output_type": "execute_result"
    }
   ],
   "source": [
    "data = pd.read_csv('Advertising.csv')\n",
    "data.head()"
   ]
  },
  {
   "cell_type": "code",
   "execution_count": 3,
   "id": "21d2c109",
   "metadata": {},
   "outputs": [],
   "source": [
    "#plt.scatter(data.radio, data.sales)"
   ]
  },
  {
   "cell_type": "code",
   "execution_count": 4,
   "id": "e322c9da",
   "metadata": {},
   "outputs": [],
   "source": [
    "# m, and b come from y = mx + b;\n",
    "# points is the pandas' entries\n",
    "def loss_function(m, b, points):\n",
    "    total_error = 0\n",
    "    for i in range(len(points)):\n",
    "        # iloc used to loop row by row, \n",
    "        # doing points[i] would search for a column \n",
    "        # with name i\n",
    "        x = points.iloc[i].radio\n",
    "        y = points.iloc[i].sales\n",
    "        total_error += (y-(m*x + b)) ** 2\n",
    "    total_error/float(len(points))"
   ]
  },
  {
   "cell_type": "markdown",
   "id": "df788dd5",
   "metadata": {},
   "source": [
    "What I thought the implementation should look like with gradient descent:"
   ]
  },
  {
   "cell_type": "code",
   "execution_count": 5,
   "id": "5f4e646c",
   "metadata": {},
   "outputs": [],
   "source": [
    "# Do it for one feature first, when do we stop?\n",
    "# We either stop when we are within a tolerance range\n",
    "# Or when we iterated a lot of time already max_iters aka epochs\n",
    "# def gradient_descent(m_now, b_now, learning_rate, points, max_iters=10000, tolerance=1e-6):\n",
    "#     for i in range(max_iters):\n",
    "#         m_gradient = calculate_gradient(points, axis=0)\n",
    "#         b_gradient = calculate_gradient(points, axis=1)\n",
    "        \n",
    "#         m_now -= learning_rate * m_gradient[feature_ptr]\n",
    "        \n",
    "#         if  m_now <= tolerance  and b_now <= tolerance:\n",
    "#             break\n",
    "#         elif m_now > tolerance and b_now > tolerance:\n",
    "#             m_now -= learning_rate * m_gradient[featuire_ptr]\n",
    "#             b_now -= learning_rate * b_gradient[featuire_ptr]\n",
    "#         elif m_now > tolerance and b_now <= tolerance:\n",
    "#             m_now -= learning_rate * m_gradient[featuire_ptr]\n",
    "#         elif m_now <= tolerance and b_now > tolerance:\n",
    "#             b_now -= learning_rate * b_gradient[featuire_ptr]\n",
    "#         else:\n",
    "#             break"
   ]
  },
  {
   "cell_type": "markdown",
   "id": "c197b10a",
   "metadata": {},
   "source": [
    "What the actual gradient descent implementation looks like for one feature (simple linear regression for one feature)"
   ]
  },
  {
   "cell_type": "code",
   "execution_count": null,
   "id": "eba38a3e",
   "metadata": {},
   "outputs": [
    {
     "name": "stdout",
     "output_type": "stream",
     "text": [
      "Epoch: 0, m: 0, b: 0\n",
      "Epoch: 50, m: 0.08323873042694489, b: 0.0022036485248894382\n",
      "Epoch: 100, m: 0.08322968888223228, b: 0.0039840928810674185\n",
      "Epoch: 150, m: 0.08322064962728844, b: 0.0057640863401898675\n",
      "Epoch: 200, m: 0.08321161266153349, b: 0.007543629016446337\n",
      "Epoch: 250, m: 0.08320257798438768, b: 0.009322721023997472\n",
      "Epoch: 300, m: 0.08319354559527144, b: 0.011101362476974994\n",
      "Epoch: 350, m: 0.08318451549360531, b: 0.012879553489481737\n",
      "Epoch: 400, m: 0.08317548767881001, b: 0.01465729417559162\n",
      "Epoch: 450, m: 0.0831664621503064, b: 0.016434584649349694\n",
      "Epoch: 500, m: 0.08315743890751545, b: 0.0182114250247721\n",
      "Epoch: 550, m: 0.08314841794985832, b: 0.01998781541584613\n",
      "Epoch: 600, m: 0.0831393992767563, b: 0.021763755936530203\n",
      "Epoch: 650, m: 0.08313038288763082, b: 0.023539246700753882\n",
      "Epoch: 700, m: 0.08312136878190346, b: 0.025314287822417837\n",
      "Epoch: 750, m: 0.08311235695899595, b: 0.02708887941539397\n",
      "Epoch: 800, m: 0.0831033474183302, b: 0.02886302159352529\n",
      "Epoch: 850, m: 0.08309434015932819, b: 0.030636714470625957\n",
      "Epoch: 900, m: 0.0830853351814121, b: 0.032409958160481374\n",
      "Epoch: 950, m: 0.08307633248400426, b: 0.03418275277684804\n",
      "0.08306733206652712 0.03595509843345374\n"
     ]
    },
    {
     "data": {
      "image/png": "[encoded data removed]",
      "text/plain": [
       "<Figure size 640x480 with 1 Axes>"
      ]
     },
     "metadata": {},
     "output_type": "display_data"
    },
    {
     "ename": "",
     "evalue": "",
     "output_type": "error",
     "traceback": [
      "\u001b[1;31mThe Kernel crashed while executing code in the current cell or a previous cell. \n",
      "\u001b[1;31mPlease review the code in the cell(s) to identify a possible cause of the failure. \n",
      "\u001b[1;31mClick <a href='https://aka.ms/vscodeJupyterKernelCrash'>here</a> for more info. \n",
      "\u001b[1;31mView Jupyter <a href='command:jupyter.viewOutput'>log</a> for further details."
     ]
    }
   ],
   "source": [
    "def gradient_descent(m_now, b_now, points, L):\n",
    "    m_gradient = 0\n",
    "    b_gradient = 0\n",
    "    n = len(points)\n",
    "    \n",
    "    for i in range(n):\n",
    "        x = points.iloc[i].TV\n",
    "        y = points.iloc[i].sales\n",
    "        \n",
    "        m_gradient += -(2/n) * x * (y - (m_now * x + b_now))\n",
    "        b_gradient += -(2/n) * (y - (m_now * x + b_now))\n",
    "        \n",
    "    m = m_now - m_gradient * L\n",
    "    b = b_now - b_gradient * L\n",
    "    return m,b        \n",
    "\n",
    "m = 0\n",
    "b = 0\n",
    "L = 0.00001\n",
    "epochs = 1000\n",
    "\n",
    "for i in range(epochs):\n",
    "    if i % 50 == 0:\n",
    "        print(f\"Epoch: {i}, m: {m}, b: {b}\")\n",
    "    m, b = gradient_descent(m, b, data, L)\n",
    "    \n",
    "print (m, b)\n",
    "plt.scatter(data.TV, data.sales, color = \"black\")\n",
    "plt.plot(list(range(15, 500)), [m*x + b for x in range(15, 500)], color=\"red\")\n",
    "plt.show()"
   ]
  }
 ],
 "metadata": {
  "kernelspec": {
   "display_name": "base",
   "language": "python",
   "name": "python3"
  },
  "language_info": {
   "codemirror_mode": {
    "name": "ipython",
    "version": 3
   },
   "file_extension": ".py",
   "mimetype": "text/x-python",
   "name": "python",
   "nbconvert_exporter": "python",
   "pygments_lexer": "ipython3",
   "version": "3.11.5"
  }
 },
 "nbformat": 4,
 "nbformat_minor": 5
}
